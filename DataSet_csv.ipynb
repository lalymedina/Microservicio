{
  "nbformat": 4,
  "nbformat_minor": 0,
  "metadata": {
    "colab": {
      "name": "DataSet_csv.ipynb",
      "provenance": [],
      "mount_file_id": "1R8Dko4SPZK4jQ9UoQy0ofzTAmHymk8EG",
      "authorship_tag": "ABX9TyMiUuq7l86uGMqKXaBZAlxR",
      "include_colab_link": true
    },
    "kernelspec": {
      "display_name": "Python 3",
      "name": "python3"
    }
  },
  "cells": [
    {
      "cell_type": "markdown",
      "metadata": {
        "id": "view-in-github",
        "colab_type": "text"
      },
      "source": [
        "<a href=\"https://colab.research.google.com/github/lalymedina/Microservicio/blob/lmedina-patch-1/DataSet_csv.ipynb\" target=\"_parent\"><img src=\"https://colab.research.google.com/assets/colab-badge.svg\" alt=\"Open In Colab\"/></a>"
      ]
    },
    {
      "cell_type": "code",
      "metadata": {
        "id": "2fu7j28ub_C0"
      },
      "source": [
        "import pandas as pd\n",
        "import numpy as np\n",
        " \n",
        "#Leer sets de datos\n",
        "datos=pd.read_csv('/content/sample_data/PRUEBA_DATA/GlobalLandTemperaturesByCountry.csv',header=0)\n",
        "frame_date = pd.DataFrame(datos)\n",
        "df=pd.DataFrame(frame_date)\n",
        " \n",
        "datos1=pd.read_csv('/content/sample_data/PRUEBA_DATA/GlobalLandTemperaturesByState.csv',header=0)\n",
        "frame_date1 = pd.DataFrame(datos1)\n",
        "df1=pd.DataFrame(frame_date1)\n",
        " \n",
        "datos2=pd.read_csv('/content/sample_data/PRUEBA_DATA/GlobalLandTemperaturesByCity.csv',header=0)\n",
        "frame_date2 = pd.DataFrame(datos2)\n",
        "df2=pd.DataFrame(frame_date2)\n",
        " \n",
        "datos3=pd.read_csv('/content/sample_data/PRUEBA_DATA/GlobalLandTemperaturesByMajorCity.csv',header=0)\n",
        "frame_date3 = pd.DataFrame(datos3)\n",
        "df3=pd.DataFrame(frame_date3)\n",
        " \n",
        "datos4=pd.read_csv('/content/sample_data/PRUEBA_DATA/GlobalTemperatures.csv',header=0)\n",
        "frame_date4 = pd.DataFrame(datos4)\n",
        "df4=pd.DataFrame(frame_date4)\n",
        "\n",
        "for Country, data in df.groupby('Country'):\n",
        "    data.to_csv(\"/content/sample_data/PRUEBA_DATA/Tgt_Prueba/ByCountry_{}.csv\".format(Country))\n",
        "\n",
        "\n",
        "for Country, data1 in df1.groupby('Country'):\n",
        "    data1.to_csv(\"/content/sample_data/PRUEBA_DATA/Tgt_Prueba/ByState_{}.csv\".format(Country))\n",
        "\n",
        "\n",
        "df2['Latitude'] =df2['Latitude'].replace('[0-9.0-9A-Z]$', np.nan, regex=True)\n",
        "df2['Longitude'] =df2['Longitude'].replace('[0-9.0-9A-Z]$', np.nan, regex=True)\n",
        "\n",
        "\n",
        "for Country, data2 in df2.groupby('Country'):\n",
        "    data2.to_csv(\"/content/sample_data/PRUEBA_DATA/Tgt_Prueba/Bycity_{}.csv\".format(Country))\n",
        "    \n",
        "df3['Latitude'] =df3['Latitude'].replace('[0-9.0-9A-Z]$', np.nan, regex=True)\n",
        "\n",
        "df3['Longitude'] =df3['Longitude'].replace('[0-9.0-9A-Z]$', np.nan, regex=True)\n",
        "\n",
        "\n",
        "for Country, data3 in df3.groupby('Country'):\n",
        "    data3.to_csv(\"/content/sample_data/PRUEBA_DATA/Tgt_Prueba/ByMajorCity_{}.csv\".format(Country))\n",
        "\n",
        "for Country, data4 in df4.groupby('Country'):\n",
        "    data4.to_csv(\"/content/sample_data/PRUEBA_DATA/Tgt_Prueba/GlobalTemp_{}.csv\".format(Country))\n"
      ],
      "execution_count": null,
      "outputs": []
    }
  ]
}